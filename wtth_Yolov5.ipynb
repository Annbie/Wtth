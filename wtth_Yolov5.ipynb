{
  "nbformat": 4,
  "nbformat_minor": 0,
  "metadata": {
    "colab": {
      "provenance": [],
      "mount_file_id": "1kOIBx1UQlAaKICuLssh57UAt4j8MPmRc",
      "authorship_tag": "ABX9TyMPCPS7ELReuQ0vRKuHx4Nq",
      "include_colab_link": true
    },
    "kernelspec": {
      "name": "python3",
      "display_name": "Python 3"
    },
    "language_info": {
      "name": "python"
    }
  },
  "cells": [
    {
      "cell_type": "markdown",
      "metadata": {
        "id": "view-in-github",
        "colab_type": "text"
      },
      "source": [
        "<a href=\"https://colab.research.google.com/github/Annbie/Wtth/blob/main/wtth_Yolov5.ipynb\" target=\"_parent\"><img src=\"https://colab.research.google.com/assets/colab-badge.svg\" alt=\"Open In Colab\"/></a>"
      ]
    },
    {
      "cell_type": "code",
      "execution_count": 1,
      "metadata": {
        "id": "R6Fe2NXfJwnl"
      },
      "outputs": [],
      "source": [
        "import os\n",
        "import cv2\n",
        "import numpy as np\n",
        "import tensorflow as tf\n",
        "import pandas as pd\n",
        "import matplotlib.pyplot as plt"
      ]
    },
    {
      "cell_type": "markdown",
      "source": [
        "import shutil\n",
        "\n",
        "shutil.rmtree('/celá/cesta/k/složce')\n"
      ],
      "metadata": {
        "id": "H18VYwudLDgn"
      }
    },
    {
      "cell_type": "code",
      "source": [
        "!apt-get install -y git"
      ],
      "metadata": {
        "colab": {
          "base_uri": "https://localhost:8080/"
        },
        "id": "Y33ZwKlJ-yYQ",
        "outputId": "608bf589-cc85-47da-d3f3-e0949d245c91"
      },
      "execution_count": 2,
      "outputs": [
        {
          "output_type": "stream",
          "name": "stdout",
          "text": [
            "Reading package lists... Done\n",
            "Building dependency tree       \n",
            "Reading state information... Done\n",
            "git is already the newest version (1:2.25.1-1ubuntu3.11).\n",
            "0 upgraded, 0 newly installed, 0 to remove and 38 not upgraded.\n"
          ]
        }
      ]
    },
    {
      "cell_type": "code",
      "source": [
        "%shell git clone https://github.com/Annbie/Wtth.git"
      ],
      "metadata": {
        "colab": {
          "base_uri": "https://localhost:8080/"
        },
        "id": "bCjftzpq_g77",
        "outputId": "ca18821c-5872-4df4-9eab-9b5df0746c7a"
      },
      "execution_count": 3,
      "outputs": [
        {
          "output_type": "stream",
          "name": "stdout",
          "text": [
            "Cloning into 'Wtth'...\n",
            "remote: Enumerating objects: 1448, done.\u001b[K\n",
            "remote: Counting objects: 100% (300/300), done.\u001b[K\n",
            "remote: Compressing objects: 100% (269/269), done.\u001b[K\n",
            "remote: Total 1448 (delta 25), reused 291 (delta 20), pack-reused 1148\u001b[K\n",
            "Receiving objects: 100% (1448/1448), 227.68 MiB | 33.10 MiB/s, done.\n",
            "Resolving deltas: 100% (38/38), done.\n",
            "Updating files: 100% (1381/1381), done.\n"
          ]
        },
        {
          "output_type": "execute_result",
          "data": {
            "text/plain": []
          },
          "metadata": {},
          "execution_count": 3
        }
      ]
    },
    {
      "cell_type": "code",
      "source": [
        "folder_paths = [\n",
        "    \"/content/Wtth/trafic-images*/\",\n",
        "    \"/content/Wtth/trafic-images1/\"\n",
        "]  # Replace with the actual folder paths\n",
        "\n",
        "output_file = \"/content/Wtth/train.txt\"  # Replace with the desired output file path\n",
        "output_file2 = \"/content/Wtth/val.txt\"  # Replace with the desired output file path\n",
        "\n",
        "for folder_path in folder_paths:\n",
        "    # Get the list of files in the folder\n",
        "    file_list = os.listdir(folder_path)\n",
        "\n",
        "    # Filter only the image files\n",
        "    image_list = [file for file in file_list if file.lower().endswith(('.jpg', '.jpeg', '.png', '.gif'))]\n",
        "\n",
        "    # Append the image names to the output files\n",
        "    with open(output_file, 'a') as file:\n",
        "        for image_name in image_list:\n",
        "            file.write(os.path.join(folder_path, image_name) + '\\n')\n",
        "\n",
        "    with open(output_file2, 'a') as file:\n",
        "        for image_name in image_list:\n",
        "            file.write(os.path.join(folder_path, image_name) + '\\n')"
      ],
      "metadata": {
        "id": "j9uvJypdLmZF"
      },
      "execution_count": 11,
      "outputs": []
    },
    {
      "cell_type": "markdown",
      "source": [
        "YOLO5V"
      ],
      "metadata": {
        "id": "R9cm8elnCDpE"
      }
    },
    {
      "cell_type": "code",
      "source": [
        "!git clone https://github.com/ultralytics/yolov5\n",
        "%cd yolov5"
      ],
      "metadata": {
        "colab": {
          "base_uri": "https://localhost:8080/"
        },
        "id": "ushari64g37o",
        "outputId": "698f05f6-4c4c-4770-c4b8-195437984b4d"
      },
      "execution_count": 5,
      "outputs": [
        {
          "output_type": "stream",
          "name": "stdout",
          "text": [
            "Cloning into 'yolov5'...\n",
            "remote: Enumerating objects: 15978, done.\u001b[K\n",
            "remote: Counting objects: 100% (147/147), done.\u001b[K\n",
            "remote: Compressing objects: 100% (77/77), done.\u001b[K\n",
            "remote: Total 15978 (delta 89), reused 112 (delta 70), pack-reused 15831\u001b[K\n",
            "Receiving objects: 100% (15978/15978), 14.54 MiB | 24.50 MiB/s, done.\n",
            "Resolving deltas: 100% (10963/10963), done.\n",
            "/content/yolov5\n"
          ]
        }
      ]
    },
    {
      "cell_type": "code",
      "source": [
        "# Instalace závislostí\n",
        "!pip install -r requirements.txt"
      ],
      "metadata": {
        "colab": {
          "base_uri": "https://localhost:8080/"
        },
        "id": "vo5XujVjhbvh",
        "outputId": "e8be2b5c-3704-4ff4-cae9-6d8c40afb61e"
      },
      "execution_count": 6,
      "outputs": [
        {
          "output_type": "stream",
          "name": "stdout",
          "text": [
            "Looking in indexes: https://pypi.org/simple, https://us-python.pkg.dev/colab-wheels/public/simple/\n",
            "Collecting gitpython>=3.1.30 (from -r requirements.txt (line 5))\n",
            "  Downloading GitPython-3.1.31-py3-none-any.whl (184 kB)\n",
            "\u001b[2K     \u001b[90m━━━━━━━━━━━━━━━━━━━━━━━━━━━━━━━━━━━━━━━\u001b[0m \u001b[32m184.3/184.3 kB\u001b[0m \u001b[31m4.8 MB/s\u001b[0m eta \u001b[36m0:00:00\u001b[0m\n",
            "\u001b[?25hRequirement already satisfied: matplotlib>=3.3 in /usr/local/lib/python3.10/dist-packages (from -r requirements.txt (line 6)) (3.7.1)\n",
            "Requirement already satisfied: numpy>=1.18.5 in /usr/local/lib/python3.10/dist-packages (from -r requirements.txt (line 7)) (1.22.4)\n",
            "Requirement already satisfied: opencv-python>=4.1.1 in /usr/local/lib/python3.10/dist-packages (from -r requirements.txt (line 8)) (4.7.0.72)\n",
            "Requirement already satisfied: Pillow>=7.1.2 in /usr/local/lib/python3.10/dist-packages (from -r requirements.txt (line 9)) (8.4.0)\n",
            "Requirement already satisfied: psutil in /usr/local/lib/python3.10/dist-packages (from -r requirements.txt (line 10)) (5.9.5)\n",
            "Requirement already satisfied: PyYAML>=5.3.1 in /usr/local/lib/python3.10/dist-packages (from -r requirements.txt (line 11)) (6.0)\n",
            "Requirement already satisfied: requests>=2.23.0 in /usr/local/lib/python3.10/dist-packages (from -r requirements.txt (line 12)) (2.27.1)\n",
            "Requirement already satisfied: scipy>=1.4.1 in /usr/local/lib/python3.10/dist-packages (from -r requirements.txt (line 13)) (1.10.1)\n",
            "Collecting thop>=0.1.1 (from -r requirements.txt (line 14))\n",
            "  Downloading thop-0.1.1.post2209072238-py3-none-any.whl (15 kB)\n",
            "Requirement already satisfied: torch>=1.7.0 in /usr/local/lib/python3.10/dist-packages (from -r requirements.txt (line 15)) (2.0.1+cu118)\n",
            "Requirement already satisfied: torchvision>=0.8.1 in /usr/local/lib/python3.10/dist-packages (from -r requirements.txt (line 16)) (0.15.2+cu118)\n",
            "Requirement already satisfied: tqdm>=4.64.0 in /usr/local/lib/python3.10/dist-packages (from -r requirements.txt (line 17)) (4.65.0)\n",
            "Collecting ultralytics>=8.0.111 (from -r requirements.txt (line 18))\n",
            "  Downloading ultralytics-8.0.115-py3-none-any.whl (595 kB)\n",
            "\u001b[2K     \u001b[90m━━━━━━━━━━━━━━━━━━━━━━━━━━━━━━━━━━━━━━\u001b[0m \u001b[32m595.6/595.6 kB\u001b[0m \u001b[31m24.9 MB/s\u001b[0m eta \u001b[36m0:00:00\u001b[0m\n",
            "\u001b[?25hRequirement already satisfied: pandas>=1.1.4 in /usr/local/lib/python3.10/dist-packages (from -r requirements.txt (line 27)) (1.5.3)\n",
            "Requirement already satisfied: seaborn>=0.11.0 in /usr/local/lib/python3.10/dist-packages (from -r requirements.txt (line 28)) (0.12.2)\n",
            "Requirement already satisfied: setuptools>=65.5.1 in /usr/local/lib/python3.10/dist-packages (from -r requirements.txt (line 42)) (67.7.2)\n",
            "Collecting gitdb<5,>=4.0.1 (from gitpython>=3.1.30->-r requirements.txt (line 5))\n",
            "  Downloading gitdb-4.0.10-py3-none-any.whl (62 kB)\n",
            "\u001b[2K     \u001b[90m━━━━━━━━━━━━━━━━━━━━━━━━━━━━━━━━━━━━━━━━\u001b[0m \u001b[32m62.7/62.7 kB\u001b[0m \u001b[31m6.6 MB/s\u001b[0m eta \u001b[36m0:00:00\u001b[0m\n",
            "\u001b[?25hRequirement already satisfied: contourpy>=1.0.1 in /usr/local/lib/python3.10/dist-packages (from matplotlib>=3.3->-r requirements.txt (line 6)) (1.0.7)\n",
            "Requirement already satisfied: cycler>=0.10 in /usr/local/lib/python3.10/dist-packages (from matplotlib>=3.3->-r requirements.txt (line 6)) (0.11.0)\n",
            "Requirement already satisfied: fonttools>=4.22.0 in /usr/local/lib/python3.10/dist-packages (from matplotlib>=3.3->-r requirements.txt (line 6)) (4.39.3)\n",
            "Requirement already satisfied: kiwisolver>=1.0.1 in /usr/local/lib/python3.10/dist-packages (from matplotlib>=3.3->-r requirements.txt (line 6)) (1.4.4)\n",
            "Requirement already satisfied: packaging>=20.0 in /usr/local/lib/python3.10/dist-packages (from matplotlib>=3.3->-r requirements.txt (line 6)) (23.1)\n",
            "Requirement already satisfied: pyparsing>=2.3.1 in /usr/local/lib/python3.10/dist-packages (from matplotlib>=3.3->-r requirements.txt (line 6)) (3.0.9)\n",
            "Requirement already satisfied: python-dateutil>=2.7 in /usr/local/lib/python3.10/dist-packages (from matplotlib>=3.3->-r requirements.txt (line 6)) (2.8.2)\n",
            "Requirement already satisfied: urllib3<1.27,>=1.21.1 in /usr/local/lib/python3.10/dist-packages (from requests>=2.23.0->-r requirements.txt (line 12)) (1.26.15)\n",
            "Requirement already satisfied: certifi>=2017.4.17 in /usr/local/lib/python3.10/dist-packages (from requests>=2.23.0->-r requirements.txt (line 12)) (2022.12.7)\n",
            "Requirement already satisfied: charset-normalizer~=2.0.0 in /usr/local/lib/python3.10/dist-packages (from requests>=2.23.0->-r requirements.txt (line 12)) (2.0.12)\n",
            "Requirement already satisfied: idna<4,>=2.5 in /usr/local/lib/python3.10/dist-packages (from requests>=2.23.0->-r requirements.txt (line 12)) (3.4)\n",
            "Requirement already satisfied: filelock in /usr/local/lib/python3.10/dist-packages (from torch>=1.7.0->-r requirements.txt (line 15)) (3.12.0)\n",
            "Requirement already satisfied: typing-extensions in /usr/local/lib/python3.10/dist-packages (from torch>=1.7.0->-r requirements.txt (line 15)) (4.5.0)\n",
            "Requirement already satisfied: sympy in /usr/local/lib/python3.10/dist-packages (from torch>=1.7.0->-r requirements.txt (line 15)) (1.11.1)\n",
            "Requirement already satisfied: networkx in /usr/local/lib/python3.10/dist-packages (from torch>=1.7.0->-r requirements.txt (line 15)) (3.1)\n",
            "Requirement already satisfied: jinja2 in /usr/local/lib/python3.10/dist-packages (from torch>=1.7.0->-r requirements.txt (line 15)) (3.1.2)\n",
            "Requirement already satisfied: triton==2.0.0 in /usr/local/lib/python3.10/dist-packages (from torch>=1.7.0->-r requirements.txt (line 15)) (2.0.0)\n",
            "Requirement already satisfied: cmake in /usr/local/lib/python3.10/dist-packages (from triton==2.0.0->torch>=1.7.0->-r requirements.txt (line 15)) (3.25.2)\n",
            "Requirement already satisfied: lit in /usr/local/lib/python3.10/dist-packages (from triton==2.0.0->torch>=1.7.0->-r requirements.txt (line 15)) (16.0.5)\n",
            "Requirement already satisfied: pytz>=2020.1 in /usr/local/lib/python3.10/dist-packages (from pandas>=1.1.4->-r requirements.txt (line 27)) (2022.7.1)\n",
            "Collecting smmap<6,>=3.0.1 (from gitdb<5,>=4.0.1->gitpython>=3.1.30->-r requirements.txt (line 5))\n",
            "  Downloading smmap-5.0.0-py3-none-any.whl (24 kB)\n",
            "Requirement already satisfied: six>=1.5 in /usr/local/lib/python3.10/dist-packages (from python-dateutil>=2.7->matplotlib>=3.3->-r requirements.txt (line 6)) (1.16.0)\n",
            "Requirement already satisfied: MarkupSafe>=2.0 in /usr/local/lib/python3.10/dist-packages (from jinja2->torch>=1.7.0->-r requirements.txt (line 15)) (2.1.2)\n",
            "Requirement already satisfied: mpmath>=0.19 in /usr/local/lib/python3.10/dist-packages (from sympy->torch>=1.7.0->-r requirements.txt (line 15)) (1.3.0)\n",
            "Installing collected packages: smmap, gitdb, gitpython, ultralytics, thop\n",
            "Successfully installed gitdb-4.0.10 gitpython-3.1.31 smmap-5.0.0 thop-0.1.1.post2209072238 ultralytics-8.0.115\n"
          ]
        }
      ]
    },
    {
      "cell_type": "code",
      "source": [
        "!python /content/yolov5/train.py --img 640 --batch 16 --epochs 2 --data /content/Wtth/ts_data.data --cfg /content/yolov5/models/yolov5s.yaml --weights yolov5s.pt --name my_model"
      ],
      "metadata": {
        "colab": {
          "base_uri": "https://localhost:8080/"
        },
        "id": "qE38DCC06BHz",
        "outputId": "480bebc2-c6f7-4c79-be39-74db7cf58733"
      },
      "execution_count": null,
      "outputs": [
        {
          "output_type": "stream",
          "name": "stdout",
          "text": [
            "\u001b[34m\u001b[1mtrain: \u001b[0mweights=yolov5s.pt, cfg=/content/yolov5/models/yolov5s.yaml, data=/content/Wtth/ts_data.data, hyp=data/hyps/hyp.scratch-low.yaml, epochs=2, batch_size=16, imgsz=640, rect=False, resume=False, nosave=False, noval=False, noautoanchor=False, noplots=False, evolve=None, bucket=, cache=None, image_weights=False, device=, multi_scale=False, single_cls=False, optimizer=SGD, sync_bn=False, workers=8, project=runs/train, name=my_model, exist_ok=False, quad=False, cos_lr=False, label_smoothing=0.0, patience=100, freeze=[0], save_period=-1, seed=0, local_rank=-1, entity=None, upload_dataset=False, bbox_interval=-1, artifact_alias=latest\n",
            "\u001b[34m\u001b[1mgithub: \u001b[0mup to date with https://github.com/ultralytics/yolov5 ✅\n",
            "YOLOv5 🚀 v7.0-178-ga199480 Python-3.10.12 torch-2.0.1+cu118 CPU\n",
            "\n",
            "\u001b[34m\u001b[1mhyperparameters: \u001b[0mlr0=0.01, lrf=0.01, momentum=0.937, weight_decay=0.0005, warmup_epochs=3.0, warmup_momentum=0.8, warmup_bias_lr=0.1, box=0.05, cls=0.5, cls_pw=1.0, obj=1.0, obj_pw=1.0, iou_t=0.2, anchor_t=4.0, fl_gamma=0.0, hsv_h=0.015, hsv_s=0.7, hsv_v=0.4, degrees=0.0, translate=0.1, scale=0.5, shear=0.0, perspective=0.0, flipud=0.0, fliplr=0.5, mosaic=1.0, mixup=0.0, copy_paste=0.0\n",
            "\u001b[34m\u001b[1mClearML: \u001b[0mrun 'pip install clearml' to automatically track, visualize and remotely train YOLOv5 🚀 in ClearML\n",
            "\u001b[34m\u001b[1mComet: \u001b[0mrun 'pip install comet_ml' to automatically track and visualize YOLOv5 🚀 runs in Comet\n",
            "\u001b[34m\u001b[1mTensorBoard: \u001b[0mStart with 'tensorboard --logdir runs/train', view at http://localhost:6006/\n",
            "Downloading https://ultralytics.com/assets/Arial.ttf to /root/.config/Ultralytics/Arial.ttf...\n",
            "100% 755k/755k [00:00<00:00, 18.5MB/s]\n",
            "Downloading https://github.com/ultralytics/yolov5/releases/download/v7.0/yolov5s.pt to yolov5s.pt...\n",
            "100% 14.1M/14.1M [00:00<00:00, 113MB/s] \n",
            "\n",
            "Overriding model.yaml nc=80 with nc=4\n",
            "\n",
            "                 from  n    params  module                                  arguments                     \n",
            "  0                -1  1      3520  models.common.Conv                      [3, 32, 6, 2, 2]              \n",
            "  1                -1  1     18560  models.common.Conv                      [32, 64, 3, 2]                \n",
            "  2                -1  1     18816  models.common.C3                        [64, 64, 1]                   \n",
            "  3                -1  1     73984  models.common.Conv                      [64, 128, 3, 2]               \n",
            "  4                -1  2    115712  models.common.C3                        [128, 128, 2]                 \n",
            "  5                -1  1    295424  models.common.Conv                      [128, 256, 3, 2]              \n",
            "  6                -1  3    625152  models.common.C3                        [256, 256, 3]                 \n",
            "  7                -1  1   1180672  models.common.Conv                      [256, 512, 3, 2]              \n",
            "  8                -1  1   1182720  models.common.C3                        [512, 512, 1]                 \n",
            "  9                -1  1    656896  models.common.SPPF                      [512, 512, 5]                 \n",
            " 10                -1  1    131584  models.common.Conv                      [512, 256, 1, 1]              \n",
            " 11                -1  1         0  torch.nn.modules.upsampling.Upsample    [None, 2, 'nearest']          \n",
            " 12           [-1, 6]  1         0  models.common.Concat                    [1]                           \n",
            " 13                -1  1    361984  models.common.C3                        [512, 256, 1, False]          \n",
            " 14                -1  1     33024  models.common.Conv                      [256, 128, 1, 1]              \n",
            " 15                -1  1         0  torch.nn.modules.upsampling.Upsample    [None, 2, 'nearest']          \n",
            " 16           [-1, 4]  1         0  models.common.Concat                    [1]                           \n",
            " 17                -1  1     90880  models.common.C3                        [256, 128, 1, False]          \n",
            " 18                -1  1    147712  models.common.Conv                      [128, 128, 3, 2]              \n",
            " 19          [-1, 14]  1         0  models.common.Concat                    [1]                           \n",
            " 20                -1  1    296448  models.common.C3                        [256, 256, 1, False]          \n",
            " 21                -1  1    590336  models.common.Conv                      [256, 256, 3, 2]              \n",
            " 22          [-1, 10]  1         0  models.common.Concat                    [1]                           \n",
            " 23                -1  1   1182720  models.common.C3                        [512, 512, 1, False]          \n",
            " 24      [17, 20, 23]  1     24273  models.yolo.Detect                      [4, [[10, 13, 16, 30, 33, 23], [30, 61, 62, 45, 59, 119], [116, 90, 156, 198, 373, 326]], [128, 256, 512]]\n",
            "YOLOv5s summary: 214 layers, 7030417 parameters, 7030417 gradients, 16.0 GFLOPs\n",
            "\n",
            "Transferred 342/349 items from yolov5s.pt\n",
            "\u001b[34m\u001b[1moptimizer:\u001b[0m SGD(lr=0.01) with parameter groups 57 weight(decay=0.0), 60 weight(decay=0.0005), 60 bias\n",
            "\u001b[34m\u001b[1malbumentations: \u001b[0mBlur(p=0.01, blur_limit=(3, 7)), MedianBlur(p=0.01, blur_limit=(3, 7)), ToGray(p=0.01), CLAHE(p=0.01, clip_limit=(1, 4.0), tile_grid_size=(8, 8))\n",
            "\u001b[34m\u001b[1mtrain: \u001b[0mScanning /content/Wtth/train... 684 images, 1 backgrounds, 0 corrupt: 100% 685/685 [00:01<00:00, 359.57it/s]\n",
            "\u001b[34m\u001b[1mtrain: \u001b[0mWARNING ⚠️ /content/Wtth/trafic-images*/00340.jpg: 1 duplicate labels removed\n",
            "\u001b[34m\u001b[1mtrain: \u001b[0mNew cache created: /content/Wtth/train.cache\n",
            "\u001b[34m\u001b[1mval: \u001b[0mScanning /content/Wtth/val... 684 images, 1 backgrounds, 0 corrupt: 100% 685/685 [00:01<00:00, 657.37it/s]\n",
            "\u001b[34m\u001b[1mval: \u001b[0mWARNING ⚠️ /content/Wtth/trafic-images*/00340.jpg: 1 duplicate labels removed\n",
            "\u001b[34m\u001b[1mval: \u001b[0mNew cache created: /content/Wtth/val.cache\n",
            "\n",
            "\u001b[34m\u001b[1mAutoAnchor: \u001b[0m4.48 anchors/target, 1.000 Best Possible Recall (BPR). Current anchors are a good fit to dataset ✅\n",
            "Plotting labels to runs/train/my_model2/labels.jpg... \n",
            "Image sizes 640 train, 640 val\n",
            "Using 2 dataloader workers\n",
            "Logging results to \u001b[1mruns/train/my_model2\u001b[0m\n",
            "Starting training for 2 epochs...\n",
            "\n",
            "      Epoch    GPU_mem   box_loss   obj_loss   cls_loss  Instances       Size\n",
            "        0/1         0G     0.1226    0.02215    0.04368         30        640: 100% 43/43 [17:30<00:00, 24.44s/it]\n",
            "                 Class     Images  Instances          P          R      mAP50   mAP50-95: 100% 22/22 [03:40<00:00, 10.03s/it]\n",
            "                   all        685       1132    0.00187      0.158     0.0023   0.000539\n",
            "\n",
            "      Epoch    GPU_mem   box_loss   obj_loss   cls_loss  Instances       Size\n",
            "        1/1         0G     0.1037    0.02186    0.04059         43        640:  16% 7/43 [02:50<14:34, 24.30s/it]"
          ]
        }
      ]
    },
    {
      "cell_type": "code",
      "source": [
        "!python /content/yolov5/train.py --img 640 --batch 16 --epochs 5 --data /content/ts_data.data --cfg /content/yolov5/models/yolov5s.yaml --weights yolov5s.pt --name my_model"
      ],
      "metadata": {
        "colab": {
          "base_uri": "https://localhost:8080/"
        },
        "id": "CXhtLc_yjMYo",
        "outputId": "5012dbb3-ffe3-488e-f30f-2cdcc6d6e8d4"
      },
      "execution_count": null,
      "outputs": [
        {
          "output_type": "stream",
          "name": "stdout",
          "text": [
            "Mounted at /content/drive\n",
            "\u001b[34m\u001b[1mtrain: \u001b[0mweights=yolov5s.pt, cfg=/content/yolov5/models/yolov5s.yaml, data=/content/ts_data.data, hyp=data/hyps/hyp.scratch-low.yaml, epochs=5, batch_size=16, imgsz=640, rect=False, resume=False, nosave=False, noval=False, noautoanchor=False, noplots=False, evolve=None, bucket=, cache=None, image_weights=False, device=, multi_scale=False, single_cls=False, optimizer=SGD, sync_bn=False, workers=8, project=runs/train, name=my_model, exist_ok=False, quad=False, cos_lr=False, label_smoothing=0.0, patience=100, freeze=[0], save_period=-1, seed=0, local_rank=-1, entity=None, upload_dataset=False, bbox_interval=-1, artifact_alias=latest\n",
            "\u001b[34m\u001b[1mgithub: \u001b[0mup to date with https://github.com/ultralytics/yolov5 ✅\n",
            "YOLOv5 🚀 v7.0-178-ga199480 Python-3.10.12 torch-2.0.1+cu118 CPU\n",
            "\n",
            "\u001b[34m\u001b[1mhyperparameters: \u001b[0mlr0=0.01, lrf=0.01, momentum=0.937, weight_decay=0.0005, warmup_epochs=3.0, warmup_momentum=0.8, warmup_bias_lr=0.1, box=0.05, cls=0.5, cls_pw=1.0, obj=1.0, obj_pw=1.0, iou_t=0.2, anchor_t=4.0, fl_gamma=0.0, hsv_h=0.015, hsv_s=0.7, hsv_v=0.4, degrees=0.0, translate=0.1, scale=0.5, shear=0.0, perspective=0.0, flipud=0.0, fliplr=0.5, mosaic=1.0, mixup=0.0, copy_paste=0.0\n",
            "\u001b[34m\u001b[1mClearML: \u001b[0mrun 'pip install clearml' to automatically track, visualize and remotely train YOLOv5 🚀 in ClearML\n",
            "\u001b[34m\u001b[1mComet: \u001b[0mrun 'pip install comet_ml' to automatically track and visualize YOLOv5 🚀 runs in Comet\n",
            "\u001b[34m\u001b[1mTensorBoard: \u001b[0mStart with 'tensorboard --logdir runs/train', view at http://localhost:6006/\n",
            "Downloading https://ultralytics.com/assets/Arial.ttf to /root/.config/Ultralytics/Arial.ttf...\n",
            "100% 755k/755k [00:00<00:00, 15.4MB/s]\n",
            "Downloading https://github.com/ultralytics/yolov5/releases/download/v7.0/yolov5s.pt to yolov5s.pt...\n",
            "100% 14.1M/14.1M [00:00<00:00, 114MB/s] \n",
            "\n",
            "Overriding model.yaml nc=80 with nc=4\n",
            "\n",
            "                 from  n    params  module                                  arguments                     \n",
            "  0                -1  1      3520  models.common.Conv                      [3, 32, 6, 2, 2]              \n",
            "  1                -1  1     18560  models.common.Conv                      [32, 64, 3, 2]                \n",
            "  2                -1  1     18816  models.common.C3                        [64, 64, 1]                   \n",
            "  3                -1  1     73984  models.common.Conv                      [64, 128, 3, 2]               \n",
            "  4                -1  2    115712  models.common.C3                        [128, 128, 2]                 \n",
            "  5                -1  1    295424  models.common.Conv                      [128, 256, 3, 2]              \n",
            "  6                -1  3    625152  models.common.C3                        [256, 256, 3]                 \n",
            "  7                -1  1   1180672  models.common.Conv                      [256, 512, 3, 2]              \n",
            "  8                -1  1   1182720  models.common.C3                        [512, 512, 1]                 \n",
            "  9                -1  1    656896  models.common.SPPF                      [512, 512, 5]                 \n",
            " 10                -1  1    131584  models.common.Conv                      [512, 256, 1, 1]              \n",
            " 11                -1  1         0  torch.nn.modules.upsampling.Upsample    [None, 2, 'nearest']          \n",
            " 12           [-1, 6]  1         0  models.common.Concat                    [1]                           \n",
            " 13                -1  1    361984  models.common.C3                        [512, 256, 1, False]          \n",
            " 14                -1  1     33024  models.common.Conv                      [256, 128, 1, 1]              \n",
            " 15                -1  1         0  torch.nn.modules.upsampling.Upsample    [None, 2, 'nearest']          \n",
            " 16           [-1, 4]  1         0  models.common.Concat                    [1]                           \n",
            " 17                -1  1     90880  models.common.C3                        [256, 128, 1, False]          \n",
            " 18                -1  1    147712  models.common.Conv                      [128, 128, 3, 2]              \n",
            " 19          [-1, 14]  1         0  models.common.Concat                    [1]                           \n",
            " 20                -1  1    296448  models.common.C3                        [256, 256, 1, False]          \n",
            " 21                -1  1    590336  models.common.Conv                      [256, 256, 3, 2]              \n",
            " 22          [-1, 10]  1         0  models.common.Concat                    [1]                           \n",
            " 23                -1  1   1182720  models.common.C3                        [512, 512, 1, False]          \n",
            " 24      [17, 20, 23]  1     24273  models.yolo.Detect                      [4, [[10, 13, 16, 30, 33, 23], [30, 61, 62, 45, 59, 119], [116, 90, 156, 198, 373, 326]], [128, 256, 512]]\n",
            "YOLOv5s summary: 214 layers, 7030417 parameters, 7030417 gradients, 16.0 GFLOPs\n",
            "\n",
            "Transferred 342/349 items from yolov5s.pt\n",
            "\u001b[34m\u001b[1moptimizer:\u001b[0m SGD(lr=0.01) with parameter groups 57 weight(decay=0.0), 60 weight(decay=0.0005), 60 bias\n",
            "\u001b[34m\u001b[1malbumentations: \u001b[0mBlur(p=0.01, blur_limit=(3, 7)), MedianBlur(p=0.01, blur_limit=(3, 7)), ToGray(p=0.01), CLAHE(p=0.01, clip_limit=(1, 4.0), tile_grid_size=(8, 8))\n",
            "\u001b[34m\u001b[1mtrain: \u001b[0mScanning /content/train... 630 images, 0 backgrounds, 0 corrupt: 100% 630/630 [14:14<00:00,  1.36s/it]\n",
            "\u001b[34m\u001b[1mtrain: \u001b[0mWARNING ⚠️ /content/drive/MyDrive/ts/00340.jpg: 1 duplicate labels removed\n",
            "\u001b[34m\u001b[1mtrain: \u001b[0mNew cache created: /content/train.cache\n",
            "\u001b[34m\u001b[1mval: \u001b[0mScanning /content/val... 630 images, 0 backgrounds, 0 corrupt: 100% 630/630 [00:03<00:00, 170.94it/s]\n",
            "\u001b[34m\u001b[1mval: \u001b[0mWARNING ⚠️ /content/drive/MyDrive/ts/00340.jpg: 1 duplicate labels removed\n",
            "\u001b[34m\u001b[1mval: \u001b[0mNew cache created: /content/val.cache\n",
            "\n",
            "\u001b[34m\u001b[1mAutoAnchor: \u001b[0m4.45 anchors/target, 1.000 Best Possible Recall (BPR). Current anchors are a good fit to dataset ✅\n",
            "Plotting labels to runs/train/my_model/labels.jpg... \n",
            "Image sizes 640 train, 640 val\n",
            "Using 2 dataloader workers\n",
            "Logging results to \u001b[1mruns/train/my_model\u001b[0m\n",
            "Starting training for 5 epochs...\n",
            "\n",
            "      Epoch    GPU_mem   box_loss   obj_loss   cls_loss  Instances       Size\n",
            "        0/4         0G     0.1231    0.02277    0.04477         17        640: 100% 40/40 [15:50<00:00, 23.76s/it]\n",
            "                 Class     Images  Instances          P          R      mAP50   mAP50-95: 100% 20/20 [03:22<00:00, 10.14s/it]\n",
            "                   all        630       1033    0.00177      0.114    0.00158   0.000371\n",
            "\n",
            "      Epoch    GPU_mem   box_loss   obj_loss   cls_loss  Instances       Size\n",
            "        1/4         0G    0.08876    0.02202    0.03782         14        640: 100% 40/40 [15:17<00:00, 22.94s/it]\n",
            "                 Class     Images  Instances          P          R      mAP50   mAP50-95: 100% 20/20 [03:15<00:00,  9.77s/it]\n",
            "                   all        630       1033    0.00312      0.576     0.0261    0.00551\n",
            "\n",
            "      Epoch    GPU_mem   box_loss   obj_loss   cls_loss  Instances       Size\n",
            "        2/4         0G    0.07115    0.02104    0.03734         16        640: 100% 40/40 [15:15<00:00, 22.90s/it]\n",
            "                 Class     Images  Instances          P          R      mAP50   mAP50-95: 100% 20/20 [03:19<00:00,  9.97s/it]\n",
            "                   all        630       1033       0.58      0.119     0.0992     0.0317\n",
            "\n",
            "      Epoch    GPU_mem   box_loss   obj_loss   cls_loss  Instances       Size\n",
            "        3/4         0G    0.05842    0.01906    0.03549         15        640: 100% 40/40 [15:19<00:00, 22.98s/it]\n",
            "                 Class     Images  Instances          P          R      mAP50   mAP50-95: 100% 20/20 [03:17<00:00,  9.90s/it]\n",
            "                   all        630       1033     0.0741       0.32     0.0819     0.0224\n",
            "\n",
            "      Epoch    GPU_mem   box_loss   obj_loss   cls_loss  Instances       Size\n",
            "        4/4         0G    0.05126    0.01786    0.03382         17        640: 100% 40/40 [15:23<00:00, 23.09s/it]\n",
            "                 Class     Images  Instances          P          R      mAP50   mAP50-95: 100% 20/20 [03:18<00:00,  9.91s/it]\n",
            "                   all        630       1033      0.168      0.405      0.226     0.0922\n",
            "\n",
            "5 epochs completed in 1.564 hours.\n",
            "Optimizer stripped from runs/train/my_model/weights/last.pt, 14.4MB\n",
            "Optimizer stripped from runs/train/my_model/weights/best.pt, 14.4MB\n",
            "\n",
            "Validating runs/train/my_model/weights/best.pt...\n",
            "Fusing layers... \n",
            "YOLOv5s summary: 157 layers, 7020913 parameters, 0 gradients, 15.8 GFLOPs\n",
            "                 Class     Images  Instances          P          R      mAP50   mAP50-95: 100% 20/20 [03:14<00:00,  9.71s/it]\n",
            "                   all        630       1033      0.168      0.405      0.226     0.0925\n",
            "           prohibitory        630        486      0.192      0.903      0.552      0.206\n",
            "                danger        630        183      0.204      0.239      0.167     0.0745\n",
            "             mandatory        630        140      0.149      0.107     0.0745     0.0347\n",
            "                 other        630        224      0.126      0.371      0.111     0.0546\n",
            "Results saved to \u001b[1mruns/train/my_model\u001b[0m\n"
          ]
        }
      ]
    },
    {
      "cell_type": "markdown",
      "source": [
        "Test yolo\n"
      ],
      "metadata": {
        "id": "XhexchIk2VEi"
      }
    },
    {
      "cell_type": "code",
      "source": [
        "!python detect.py --source /content/traffic-sign-to-test.mp4 --weights /content/drive/MyDrive/data_science/my_model/weights/last.pt --conf 0.4 --save-txt"
      ],
      "metadata": {
        "colab": {
          "base_uri": "https://localhost:8080/"
        },
        "id": "iAeI__8XOUw8",
        "outputId": "f774813b-8a13-4bd6-a42a-ba9c12c36c8f"
      },
      "execution_count": null,
      "outputs": [
        {
          "output_type": "stream",
          "name": "stdout",
          "text": [
            "\u001b[34m\u001b[1mdetect: \u001b[0mweights=['/content/drive/MyDrive/data_science/my_model/weights/last.pt'], source=/content/traffic-sign-to-test.mp4, data=data/coco128.yaml, imgsz=[640, 640], conf_thres=0.4, iou_thres=0.45, max_det=1000, device=, view_img=False, save_txt=True, save_conf=False, save_crop=False, nosave=False, classes=None, agnostic_nms=False, augment=False, visualize=False, update=False, project=runs/detect, name=exp, exist_ok=False, line_thickness=3, hide_labels=False, hide_conf=False, half=False, dnn=False, vid_stride=1\n",
            "YOLOv5 🚀 v7.0-178-ga199480 Python-3.10.12 torch-2.0.1+cu118 CPU\n",
            "\n",
            "Fusing layers... \n",
            "YOLOv5s summary: 157 layers, 7020913 parameters, 0 gradients, 15.8 GFLOPs\n",
            "video 1/1 (1/56) /content/traffic-sign-to-test.mp4: 384x640 4 prohibitorys, 267.2ms\n",
            "video 1/1 (2/56) /content/traffic-sign-to-test.mp4: 384x640 4 prohibitorys, 245.6ms\n",
            "video 1/1 (3/56) /content/traffic-sign-to-test.mp4: 384x640 4 prohibitorys, 233.1ms\n",
            "video 1/1 (4/56) /content/traffic-sign-to-test.mp4: 384x640 4 prohibitorys, 257.3ms\n",
            "video 1/1 (5/56) /content/traffic-sign-to-test.mp4: 384x640 4 prohibitorys, 258.7ms\n",
            "video 1/1 (6/56) /content/traffic-sign-to-test.mp4: 384x640 4 prohibitorys, 237.1ms\n",
            "video 1/1 (7/56) /content/traffic-sign-to-test.mp4: 384x640 4 prohibitorys, 234.9ms\n",
            "video 1/1 (8/56) /content/traffic-sign-to-test.mp4: 384x640 3 prohibitorys, 232.7ms\n",
            "video 1/1 (9/56) /content/traffic-sign-to-test.mp4: 384x640 3 prohibitorys, 255.2ms\n",
            "video 1/1 (10/56) /content/traffic-sign-to-test.mp4: 384x640 4 prohibitorys, 234.1ms\n",
            "video 1/1 (11/56) /content/traffic-sign-to-test.mp4: 384x640 4 prohibitorys, 237.3ms\n",
            "video 1/1 (12/56) /content/traffic-sign-to-test.mp4: 384x640 4 prohibitorys, 246.9ms\n",
            "video 1/1 (13/56) /content/traffic-sign-to-test.mp4: 384x640 3 prohibitorys, 377.5ms\n",
            "video 1/1 (14/56) /content/traffic-sign-to-test.mp4: 384x640 3 prohibitorys, 393.2ms\n",
            "video 1/1 (15/56) /content/traffic-sign-to-test.mp4: 384x640 3 prohibitorys, 406.8ms\n",
            "video 1/1 (16/56) /content/traffic-sign-to-test.mp4: 384x640 3 prohibitorys, 387.2ms\n",
            "video 1/1 (17/56) /content/traffic-sign-to-test.mp4: 384x640 4 prohibitorys, 390.7ms\n",
            "video 1/1 (18/56) /content/traffic-sign-to-test.mp4: 384x640 3 prohibitorys, 394.8ms\n",
            "video 1/1 (19/56) /content/traffic-sign-to-test.mp4: 384x640 4 prohibitorys, 382.8ms\n",
            "video 1/1 (20/56) /content/traffic-sign-to-test.mp4: 384x640 4 prohibitorys, 399.1ms\n",
            "video 1/1 (21/56) /content/traffic-sign-to-test.mp4: 384x640 3 prohibitorys, 384.6ms\n",
            "video 1/1 (22/56) /content/traffic-sign-to-test.mp4: 384x640 4 prohibitorys, 380.1ms\n",
            "video 1/1 (23/56) /content/traffic-sign-to-test.mp4: 384x640 3 prohibitorys, 409.3ms\n",
            "video 1/1 (24/56) /content/traffic-sign-to-test.mp4: 384x640 3 prohibitorys, 382.1ms\n",
            "video 1/1 (25/56) /content/traffic-sign-to-test.mp4: 384x640 4 prohibitorys, 277.6ms\n",
            "video 1/1 (26/56) /content/traffic-sign-to-test.mp4: 384x640 4 prohibitorys, 249.0ms\n",
            "video 1/1 (27/56) /content/traffic-sign-to-test.mp4: 384x640 4 prohibitorys, 246.0ms\n",
            "video 1/1 (28/56) /content/traffic-sign-to-test.mp4: 384x640 2 prohibitorys, 242.4ms\n",
            "video 1/1 (29/56) /content/traffic-sign-to-test.mp4: 384x640 4 prohibitorys, 253.8ms\n",
            "video 1/1 (30/56) /content/traffic-sign-to-test.mp4: 384x640 3 prohibitorys, 248.5ms\n",
            "video 1/1 (31/56) /content/traffic-sign-to-test.mp4: 384x640 2 prohibitorys, 264.6ms\n",
            "video 1/1 (32/56) /content/traffic-sign-to-test.mp4: 384x640 4 prohibitorys, 246.4ms\n",
            "video 1/1 (33/56) /content/traffic-sign-to-test.mp4: 384x640 3 prohibitorys, 249.9ms\n",
            "video 1/1 (34/56) /content/traffic-sign-to-test.mp4: 384x640 2 prohibitorys, 241.1ms\n",
            "video 1/1 (35/56) /content/traffic-sign-to-test.mp4: 384x640 2 prohibitorys, 236.0ms\n",
            "video 1/1 (36/56) /content/traffic-sign-to-test.mp4: 384x640 2 prohibitorys, 243.8ms\n",
            "video 1/1 (37/56) /content/traffic-sign-to-test.mp4: 384x640 2 prohibitorys, 247.5ms\n",
            "video 1/1 (38/56) /content/traffic-sign-to-test.mp4: 384x640 4 prohibitorys, 235.7ms\n",
            "video 1/1 (39/56) /content/traffic-sign-to-test.mp4: 384x640 3 prohibitorys, 250.0ms\n",
            "video 1/1 (40/56) /content/traffic-sign-to-test.mp4: 384x640 2 prohibitorys, 236.6ms\n",
            "video 1/1 (41/56) /content/traffic-sign-to-test.mp4: 384x640 3 prohibitorys, 253.7ms\n",
            "video 1/1 (42/56) /content/traffic-sign-to-test.mp4: 384x640 2 prohibitorys, 242.9ms\n",
            "video 1/1 (43/56) /content/traffic-sign-to-test.mp4: 384x640 2 prohibitorys, 240.2ms\n",
            "video 1/1 (44/56) /content/traffic-sign-to-test.mp4: 384x640 2 prohibitorys, 236.6ms\n",
            "video 1/1 (45/56) /content/traffic-sign-to-test.mp4: 384x640 2 prohibitorys, 260.9ms\n",
            "video 1/1 (46/56) /content/traffic-sign-to-test.mp4: 384x640 2 prohibitorys, 243.5ms\n",
            "video 1/1 (47/56) /content/traffic-sign-to-test.mp4: 384x640 2 prohibitorys, 240.6ms\n",
            "video 1/1 (48/56) /content/traffic-sign-to-test.mp4: 384x640 2 prohibitorys, 239.3ms\n",
            "video 1/1 (49/56) /content/traffic-sign-to-test.mp4: 384x640 2 prohibitorys, 261.5ms\n",
            "video 1/1 (50/56) /content/traffic-sign-to-test.mp4: 384x640 2 prohibitorys, 237.7ms\n",
            "video 1/1 (51/56) /content/traffic-sign-to-test.mp4: 384x640 2 prohibitorys, 236.5ms\n",
            "video 1/1 (52/56) /content/traffic-sign-to-test.mp4: 384x640 2 prohibitorys, 232.1ms\n",
            "video 1/1 (53/56) /content/traffic-sign-to-test.mp4: 384x640 2 prohibitorys, 251.9ms\n",
            "video 1/1 (54/56) /content/traffic-sign-to-test.mp4: 384x640 1 prohibitory, 239.5ms\n",
            "video 1/1 (55/56) /content/traffic-sign-to-test.mp4: 384x640 2 prohibitorys, 247.6ms\n",
            "video 1/1 (56/56) /content/traffic-sign-to-test.mp4: 384x640 1 prohibitory, 237.2ms\n",
            "Speed: 1.3ms pre-process, 276.8ms inference, 0.8ms NMS per image at shape (1, 3, 640, 640)\n",
            "Results saved to \u001b[1mruns/detect/exp5\u001b[0m\n",
            "56 labels saved to runs/detect/exp5/labels\n"
          ]
        }
      ]
    }
  ]
}